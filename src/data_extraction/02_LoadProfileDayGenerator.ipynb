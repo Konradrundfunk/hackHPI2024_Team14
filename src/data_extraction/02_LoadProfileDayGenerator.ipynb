{
 "cells": [
  {
   "cell_type": "code",
   "execution_count": 26,
   "id": "initial_id",
   "metadata": {
    "collapsed": true,
    "ExecuteTime": {
     "end_time": "2024-04-05T17:39:37.968318900Z",
     "start_time": "2024-04-05T17:39:37.945135100Z"
    }
   },
   "outputs": [],
   "source": [
    "import pandas as pd\n",
    "import json\n",
    "import os"
   ]
  },
  {
   "cell_type": "code",
   "outputs": [],
   "source": [
    "loadprofile_folder = \"./data/loadprofiles/raw\"\n",
    "dfs = {}\n",
    "for file in os.listdir(loadprofile_folder):\n",
    "    if file.endswith(\".xlsx\"):\n",
    "        type = file.replace(\".xlsx\", \"\").replace(\"BRUI_loadprofiles_\", \"\")\n",
    "        df = pd.read_excel(os.path.join(loadprofile_folder, file), skiprows=1)\n",
    "        columns = df.columns\n",
    "        # rename columns that have \"Elektro\" in them to \"Electro\", and \"Wärme\" to \"Heating\"\n",
    "        new_cols = []\n",
    "        for col in columns:\n",
    "            if \"Elektro\" in col:\n",
    "                new_cols.append(\"Electro\")\n",
    "            elif \"Wärme\" in col:\n",
    "                new_cols.append(\"Heating\")\n",
    "            else:\n",
    "                new_cols.append(col)\n",
    "        df.columns = new_cols\n",
    "        new_cols[0] = \"time\"\n",
    "        df.columns = new_cols\n",
    "        df[\"time\"] = pd.to_datetime(df[\"time\"])\n",
    "        \n",
    "        # all columns expect time * 1000\n",
    "        for col in df.columns[1:]:\n",
    "            df[col] = df[col]\n",
    "        \n",
    "        dfs[type] = df"
   ],
   "metadata": {
    "collapsed": false,
    "ExecuteTime": {
     "end_time": "2024-04-05T17:39:42.220847400Z",
     "start_time": "2024-04-05T17:39:39.685232300Z"
    }
   },
   "id": "f2a6de4462f79f4b",
   "execution_count": 27
  },
  {
   "cell_type": "code",
   "outputs": [
    {
     "data": {
      "text/plain": "                 time   Electro   Heating\n0 2015-01-01 00:00:00  0.008301  0.013756\n1 2015-01-01 01:00:00  0.008627  0.013606\n2 2015-01-01 02:00:00  0.009278  0.013070\n3 2015-01-01 03:00:00  0.013415  0.018524\n4 2015-01-01 04:00:00  0.013432  0.023496",
      "text/html": "<div>\n<style scoped>\n    .dataframe tbody tr th:only-of-type {\n        vertical-align: middle;\n    }\n\n    .dataframe tbody tr th {\n        vertical-align: top;\n    }\n\n    .dataframe thead th {\n        text-align: right;\n    }\n</style>\n<table border=\"1\" class=\"dataframe\">\n  <thead>\n    <tr style=\"text-align: right;\">\n      <th></th>\n      <th>time</th>\n      <th>Electro</th>\n      <th>Heating</th>\n    </tr>\n  </thead>\n  <tbody>\n    <tr>\n      <th>0</th>\n      <td>2015-01-01 00:00:00</td>\n      <td>0.008301</td>\n      <td>0.013756</td>\n    </tr>\n    <tr>\n      <th>1</th>\n      <td>2015-01-01 01:00:00</td>\n      <td>0.008627</td>\n      <td>0.013606</td>\n    </tr>\n    <tr>\n      <th>2</th>\n      <td>2015-01-01 02:00:00</td>\n      <td>0.009278</td>\n      <td>0.013070</td>\n    </tr>\n    <tr>\n      <th>3</th>\n      <td>2015-01-01 03:00:00</td>\n      <td>0.013415</td>\n      <td>0.018524</td>\n    </tr>\n    <tr>\n      <th>4</th>\n      <td>2015-01-01 04:00:00</td>\n      <td>0.013432</td>\n      <td>0.023496</td>\n    </tr>\n  </tbody>\n</table>\n</div>"
     },
     "execution_count": 28,
     "metadata": {},
     "output_type": "execute_result"
    }
   ],
   "source": [
    "dfs[list(dfs.keys())[0]].head()"
   ],
   "metadata": {
    "collapsed": false,
    "ExecuteTime": {
     "end_time": "2024-04-05T17:39:42.220847400Z",
     "start_time": "2024-04-05T17:39:42.196598600Z"
    }
   },
   "id": "8e1a3bc83c9c8072",
   "execution_count": 28
  },
  {
   "cell_type": "code",
   "outputs": [],
   "source": [
    "winter_day = \"2015-02-14\"\n",
    "summer_day = \"2015-07-14\""
   ],
   "metadata": {
    "collapsed": false,
    "ExecuteTime": {
     "end_time": "2024-04-05T17:39:42.299573900Z",
     "start_time": "2024-04-05T17:39:42.249193400Z"
    }
   },
   "id": "21a58d382939d736",
   "execution_count": 29
  },
  {
   "cell_type": "code",
   "outputs": [],
   "source": [
    "for type, df in dfs.items():\n",
    "    df_winter = df[df[\"time\"].dt.date == pd.to_datetime(winter_day).date()]\n",
    "    df_summer = df[df[\"time\"].dt.date == pd.to_datetime(summer_day).date()]\n",
    "    # ignore time column\n",
    "    df_winter = df_winter.drop(columns=[\"time\"])\n",
    "    df_summer = df_summer.drop(columns=[\"time\"])\n",
    "    \n",
    "    winter = {}\n",
    "    summer = {}\n",
    "    \n",
    "    for col in df_winter.columns:\n",
    "        winter[col] = df_winter[col].to_list()\n",
    "        summer[col] = df_summer[col].to_list()\n",
    "    \n",
    "    with open(f\"./data/loadprofiles/winter/{type}.json\", \"w\") as f:\n",
    "        json.dump(winter, f)\n",
    "        \n",
    "    with open(f\"./data/loadprofiles/summer/{type}.json\", \"w\") as f:\n",
    "        json.dump(summer, f)"
   ],
   "metadata": {
    "collapsed": false,
    "ExecuteTime": {
     "end_time": "2024-04-05T17:40:17.367047500Z",
     "start_time": "2024-04-05T17:40:17.273087900Z"
    }
   },
   "id": "339f523c06c92452",
   "execution_count": 33
  },
  {
   "cell_type": "code",
   "execution_count": 34,
   "outputs": [
    {
     "data": {
      "text/plain": "dict_keys(['highways', 'areas', 'buildings'])"
     },
     "execution_count": 34,
     "metadata": {},
     "output_type": "execute_result"
    }
   ],
   "source": [
    "total_data_path = \"./data/total_Arnis.json\"\n",
    "with open(total_data_path, \"r\") as f:\n",
    "    total_data = json.load(f)\n",
    "total_data.keys()"
   ],
   "metadata": {
    "collapsed": false,
    "ExecuteTime": {
     "end_time": "2024-04-05T17:40:21.305016600Z",
     "start_time": "2024-04-05T17:40:21.273191800Z"
    }
   },
   "id": "42ddc601efedfacd"
  },
  {
   "cell_type": "code",
   "execution_count": 35,
   "outputs": [],
   "source": [
    "import random\n",
    "\n",
    "buildings = total_data[\"buildings\"]\n",
    "for buildingID, buildingData in buildings.items():\n",
    "    area = buildingData[\"area\"]\n",
    "    typeVal = buildingData[\"type\"]\n",
    "    typeVal = typeVal.upper()\n",
    "    \n",
    "    df_industry = dfs[typeVal]\n",
    "    energies = df_industry.columns[1:]\n",
    "    \n",
    "    df_summer = df_industry[df_industry[\"time\"].dt.date == pd.to_datetime(summer_day).date()]\n",
    "    df_winter = df_industry[df_industry[\"time\"].dt.date == pd.to_datetime(winter_day).date()]\n",
    "    \n",
    "    winter = {}\n",
    "    summer = {}\n",
    "    \n",
    "    for energy in energies:\n",
    "        winter_data = df_winter[energy].to_list()\n",
    "        summer_data = df_summer[energy].to_list()\n",
    "    \n",
    "        # move the values around by +-1 or 0\n",
    "        move_around = random.choice([-1, 0, 1])\n",
    "        \n",
    "        # shift the array by move_around\n",
    "        winter_data = winter_data[move_around:] + winter_data[:move_around]\n",
    "        summer_data = summer_data[move_around:] + summer_data[:move_around]\n",
    "        \n",
    "        winter[energy] = [x*area for x in winter_data]\n",
    "        summer[energy] = [x*area for x in summer_data]   \n",
    "        \n",
    "    buildingData[\"winter\"] = winter\n",
    "    buildingData[\"summer\"] = summer\n",
    "    buildings[buildingID] = buildingData"
   ],
   "metadata": {
    "collapsed": false,
    "ExecuteTime": {
     "end_time": "2024-04-05T17:40:33.411597700Z",
     "start_time": "2024-04-05T17:40:30.227708300Z"
    }
   },
   "id": "5d759d01ff6362dc"
  },
  {
   "cell_type": "code",
   "execution_count": 36,
   "outputs": [],
   "source": [
    "with open(\"./data/total_Arnis_with_energies.json\", \"w\") as f:\n",
    "    json.dump(total_data, f)"
   ],
   "metadata": {
    "collapsed": false,
    "ExecuteTime": {
     "end_time": "2024-04-05T17:40:33.489039400Z",
     "start_time": "2024-04-05T17:40:33.405799500Z"
    }
   },
   "id": "20a6d5a94c6462c2"
  },
  {
   "cell_type": "markdown",
   "source": [
    "# Generate PC potential per m2"
   ],
   "metadata": {
    "collapsed": false
   },
   "id": "7facc208a68fcd3c"
  },
  {
   "cell_type": "code",
   "outputs": [],
   "source": [
    "def pv_potential(direct, diffuse):\n",
    "    return (direct + diffuse) / 1000"
   ],
   "metadata": {
    "collapsed": false,
    "ExecuteTime": {
     "end_time": "2024-04-05T17:40:34.807278500Z",
     "start_time": "2024-04-05T17:40:34.775704400Z"
    }
   },
   "id": "8f11fec253fc2b6f",
   "execution_count": 37
  },
  {
   "cell_type": "code",
   "outputs": [
    {
     "data": {
      "text/plain": "                    labels    t  B  D\n0  2015-01-01T00:00:00.000  2.7  0  0\n1  2015-01-01T01:00:00.000  1.5  0  0\n2  2015-01-01T02:00:00.000  0.4  0  0\n3  2015-01-01T03:00:00.000  0.4  0  0\n4  2015-01-01T04:00:00.000  0.2  0  0",
      "text/html": "<div>\n<style scoped>\n    .dataframe tbody tr th:only-of-type {\n        vertical-align: middle;\n    }\n\n    .dataframe tbody tr th {\n        vertical-align: top;\n    }\n\n    .dataframe thead th {\n        text-align: right;\n    }\n</style>\n<table border=\"1\" class=\"dataframe\">\n  <thead>\n    <tr style=\"text-align: right;\">\n      <th></th>\n      <th>labels</th>\n      <th>t</th>\n      <th>B</th>\n      <th>D</th>\n    </tr>\n  </thead>\n  <tbody>\n    <tr>\n      <th>0</th>\n      <td>2015-01-01T00:00:00.000</td>\n      <td>2.7</td>\n      <td>0</td>\n      <td>0</td>\n    </tr>\n    <tr>\n      <th>1</th>\n      <td>2015-01-01T01:00:00.000</td>\n      <td>1.5</td>\n      <td>0</td>\n      <td>0</td>\n    </tr>\n    <tr>\n      <th>2</th>\n      <td>2015-01-01T02:00:00.000</td>\n      <td>0.4</td>\n      <td>0</td>\n      <td>0</td>\n    </tr>\n    <tr>\n      <th>3</th>\n      <td>2015-01-01T03:00:00.000</td>\n      <td>0.4</td>\n      <td>0</td>\n      <td>0</td>\n    </tr>\n    <tr>\n      <th>4</th>\n      <td>2015-01-01T04:00:00.000</td>\n      <td>0.2</td>\n      <td>0</td>\n      <td>0</td>\n    </tr>\n  </tbody>\n</table>\n</div>"
     },
     "execution_count": 38,
     "metadata": {},
     "output_type": "execute_result"
    }
   ],
   "source": [
    "df_weather = pd.read_excel(\"./data/weather.xlsx\")\n",
    "df_weather.head()"
   ],
   "metadata": {
    "collapsed": false,
    "ExecuteTime": {
     "end_time": "2024-04-05T17:40:35.966685400Z",
     "start_time": "2024-04-05T17:40:35.336073100Z"
    }
   },
   "id": "8959326e32c5d787",
   "execution_count": 38
  },
  {
   "cell_type": "code",
   "outputs": [
    {
     "data": {
      "text/plain": "                    labels    t  B  D  pv_potential                time\n0  2015-01-01T00:00:00.000  2.7  0  0           0.0 2015-01-01 00:00:00\n1  2015-01-01T01:00:00.000  1.5  0  0           0.0 2015-01-01 01:00:00\n2  2015-01-01T02:00:00.000  0.4  0  0           0.0 2015-01-01 02:00:00\n3  2015-01-01T03:00:00.000  0.4  0  0           0.0 2015-01-01 03:00:00\n4  2015-01-01T04:00:00.000  0.2  0  0           0.0 2015-01-01 04:00:00",
      "text/html": "<div>\n<style scoped>\n    .dataframe tbody tr th:only-of-type {\n        vertical-align: middle;\n    }\n\n    .dataframe tbody tr th {\n        vertical-align: top;\n    }\n\n    .dataframe thead th {\n        text-align: right;\n    }\n</style>\n<table border=\"1\" class=\"dataframe\">\n  <thead>\n    <tr style=\"text-align: right;\">\n      <th></th>\n      <th>labels</th>\n      <th>t</th>\n      <th>B</th>\n      <th>D</th>\n      <th>pv_potential</th>\n      <th>time</th>\n    </tr>\n  </thead>\n  <tbody>\n    <tr>\n      <th>0</th>\n      <td>2015-01-01T00:00:00.000</td>\n      <td>2.7</td>\n      <td>0</td>\n      <td>0</td>\n      <td>0.0</td>\n      <td>2015-01-01 00:00:00</td>\n    </tr>\n    <tr>\n      <th>1</th>\n      <td>2015-01-01T01:00:00.000</td>\n      <td>1.5</td>\n      <td>0</td>\n      <td>0</td>\n      <td>0.0</td>\n      <td>2015-01-01 01:00:00</td>\n    </tr>\n    <tr>\n      <th>2</th>\n      <td>2015-01-01T02:00:00.000</td>\n      <td>0.4</td>\n      <td>0</td>\n      <td>0</td>\n      <td>0.0</td>\n      <td>2015-01-01 02:00:00</td>\n    </tr>\n    <tr>\n      <th>3</th>\n      <td>2015-01-01T03:00:00.000</td>\n      <td>0.4</td>\n      <td>0</td>\n      <td>0</td>\n      <td>0.0</td>\n      <td>2015-01-01 03:00:00</td>\n    </tr>\n    <tr>\n      <th>4</th>\n      <td>2015-01-01T04:00:00.000</td>\n      <td>0.2</td>\n      <td>0</td>\n      <td>0</td>\n      <td>0.0</td>\n      <td>2015-01-01 04:00:00</td>\n    </tr>\n  </tbody>\n</table>\n</div>"
     },
     "execution_count": 39,
     "metadata": {},
     "output_type": "execute_result"
    }
   ],
   "source": [
    "df_weather[\"pv_potential\"] = df_weather.apply(lambda x: pv_potential(x[\"B\"], x[\"D\"]), axis=1)\n",
    "df_weather[\"time\"] = pd.to_datetime(df_weather[\"labels\"])\n",
    "df_weather.head()"
   ],
   "metadata": {
    "collapsed": false,
    "ExecuteTime": {
     "end_time": "2024-04-05T17:40:40.098716Z",
     "start_time": "2024-04-05T17:40:39.965279500Z"
    }
   },
   "id": "5db94a703103893c",
   "execution_count": 39
  },
  {
   "cell_type": "code",
   "outputs": [
    {
     "data": {
      "text/plain": "dict_keys(['COMMERCIAL', 'FARM', 'HIGH_DENSITY_RESIDENTIAL', 'INDUSTRIAL', 'RESIDENTIAL', 'RETAIL', 'TRANSPORT'])"
     },
     "execution_count": 40,
     "metadata": {},
     "output_type": "execute_result"
    }
   ],
   "source": [
    "dfs.keys()"
   ],
   "metadata": {
    "collapsed": false,
    "ExecuteTime": {
     "end_time": "2024-04-05T17:40:40.690584400Z",
     "start_time": "2024-04-05T17:40:40.641795500Z"
    }
   },
   "id": "5e7dc2effe9bae06",
   "execution_count": 40
  },
  {
   "cell_type": "code",
   "outputs": [],
   "source": [
    "df_industry = dfs[\"INDUSTRIAL\"]\n",
    "df_industry_winter = df_industry[df_industry[\"time\"].dt.date == pd.to_datetime(winter_day).date()]\n",
    "df_industry_summer = df_industry[df_industry[\"time\"].dt.date == pd.to_datetime(summer_day).date()]"
   ],
   "metadata": {
    "collapsed": false,
    "ExecuteTime": {
     "end_time": "2024-04-05T17:41:02.915587Z",
     "start_time": "2024-04-05T17:41:02.885121800Z"
    }
   },
   "id": "47991b2adecc2aa7",
   "execution_count": 41
  },
  {
   "cell_type": "code",
   "outputs": [],
   "source": [
    "df_winter = df_weather[df_weather[\"time\"].dt.date == pd.to_datetime(winter_day).date()]\n",
    "df_summer = df_weather[df_weather[\"time\"].dt.date == pd.to_datetime(summer_day).date()]\n",
    "\n",
    "winter = {}\n",
    "summer = {}\n",
    "winter[\"pv_potential\"] = df_winter[\"pv_potential\"].to_list()\n",
    "summer[\"pv_potential\"] = df_summer[\"pv_potential\"].to_list()\n",
    "\n",
    "winter[\"powerPlantPotential\"] = [10000 for _ in range(len(winter[\"pv_potential\"]))]\n",
    "summer[\"powerPlantPotential\"] = [10000 for _ in range(len(summer[\"pv_potential\"]))]\n",
    "\n",
    "winter[\"gasPotential\"] = [2000000 for _ in range(len(winter[\"pv_potential\"]))]\n",
    "summer[\"gasPotential\"] = [2000000 for _ in range(len(summer[\"pv_potential\"]))]\n",
    "\n",
    "winter[\"heatingOil\"] = [1500000 for _ in range(len(winter[\"pv_potential\"]))]\n",
    "summer[\"heatingOil\"] = [1500000 for _ in range(len(summer[\"pv_potential\"]))]\n",
    "\n",
    "winter[\"districtHeatingPotential\"] = [x*1.0 for x in df_industry_winter[\"Electro\"].to_list()]\n",
    "summer[\"districtHeatingPotential\"] = [x*1.0 for x in df_industry_summer[\"Electro\"].to_list()]"
   ],
   "metadata": {
    "collapsed": false,
    "ExecuteTime": {
     "end_time": "2024-04-05T17:41:11.501506400Z",
     "start_time": "2024-04-05T17:41:11.472504800Z"
    }
   },
   "id": "8053067b3adc8408",
   "execution_count": 42
  },
  {
   "cell_type": "code",
   "execution_count": 43,
   "outputs": [
    {
     "data": {
      "text/plain": "                    time   Electro   Heating\n1056 2015-02-14 00:00:00  0.057782  0.004650\n1057 2015-02-14 01:00:00  0.060983  0.004580\n1058 2015-02-14 02:00:00  0.058358  0.004508\n1059 2015-02-14 03:00:00  0.056512  0.004575\n1060 2015-02-14 04:00:00  0.057649  0.004932\n1061 2015-02-14 05:00:00  0.057695  0.005019\n1062 2015-02-14 06:00:00  0.055425  0.016143\n1063 2015-02-14 07:00:00  0.035707  0.013187\n1064 2015-02-14 08:00:00  0.041347  0.008877\n1065 2015-02-14 09:00:00  0.035360  0.007687\n1066 2015-02-14 10:00:00  0.040770  0.007722\n1067 2015-02-14 11:00:00  0.045801  0.007625\n1068 2015-02-14 12:00:00  0.040477  0.009152\n1069 2015-02-14 13:00:00  0.034417  0.007077\n1070 2015-02-14 14:00:00  0.037168  0.007118\n1071 2015-02-14 15:00:00  0.037253  0.006854\n1072 2015-02-14 16:00:00  0.033356  0.007850\n1073 2015-02-14 17:00:00  0.035141  0.007417\n1074 2015-02-14 18:00:00  0.030345  0.014002\n1075 2015-02-14 19:00:00  0.026765  0.010058\n1076 2015-02-14 20:00:00  0.028170  0.004842\n1077 2015-02-14 21:00:00  0.027285  0.005247\n1078 2015-02-14 22:00:00  0.027663  0.004443\n1079 2015-02-14 23:00:00  0.027491  0.003871",
      "text/html": "<div>\n<style scoped>\n    .dataframe tbody tr th:only-of-type {\n        vertical-align: middle;\n    }\n\n    .dataframe tbody tr th {\n        vertical-align: top;\n    }\n\n    .dataframe thead th {\n        text-align: right;\n    }\n</style>\n<table border=\"1\" class=\"dataframe\">\n  <thead>\n    <tr style=\"text-align: right;\">\n      <th></th>\n      <th>time</th>\n      <th>Electro</th>\n      <th>Heating</th>\n    </tr>\n  </thead>\n  <tbody>\n    <tr>\n      <th>1056</th>\n      <td>2015-02-14 00:00:00</td>\n      <td>0.057782</td>\n      <td>0.004650</td>\n    </tr>\n    <tr>\n      <th>1057</th>\n      <td>2015-02-14 01:00:00</td>\n      <td>0.060983</td>\n      <td>0.004580</td>\n    </tr>\n    <tr>\n      <th>1058</th>\n      <td>2015-02-14 02:00:00</td>\n      <td>0.058358</td>\n      <td>0.004508</td>\n    </tr>\n    <tr>\n      <th>1059</th>\n      <td>2015-02-14 03:00:00</td>\n      <td>0.056512</td>\n      <td>0.004575</td>\n    </tr>\n    <tr>\n      <th>1060</th>\n      <td>2015-02-14 04:00:00</td>\n      <td>0.057649</td>\n      <td>0.004932</td>\n    </tr>\n    <tr>\n      <th>1061</th>\n      <td>2015-02-14 05:00:00</td>\n      <td>0.057695</td>\n      <td>0.005019</td>\n    </tr>\n    <tr>\n      <th>1062</th>\n      <td>2015-02-14 06:00:00</td>\n      <td>0.055425</td>\n      <td>0.016143</td>\n    </tr>\n    <tr>\n      <th>1063</th>\n      <td>2015-02-14 07:00:00</td>\n      <td>0.035707</td>\n      <td>0.013187</td>\n    </tr>\n    <tr>\n      <th>1064</th>\n      <td>2015-02-14 08:00:00</td>\n      <td>0.041347</td>\n      <td>0.008877</td>\n    </tr>\n    <tr>\n      <th>1065</th>\n      <td>2015-02-14 09:00:00</td>\n      <td>0.035360</td>\n      <td>0.007687</td>\n    </tr>\n    <tr>\n      <th>1066</th>\n      <td>2015-02-14 10:00:00</td>\n      <td>0.040770</td>\n      <td>0.007722</td>\n    </tr>\n    <tr>\n      <th>1067</th>\n      <td>2015-02-14 11:00:00</td>\n      <td>0.045801</td>\n      <td>0.007625</td>\n    </tr>\n    <tr>\n      <th>1068</th>\n      <td>2015-02-14 12:00:00</td>\n      <td>0.040477</td>\n      <td>0.009152</td>\n    </tr>\n    <tr>\n      <th>1069</th>\n      <td>2015-02-14 13:00:00</td>\n      <td>0.034417</td>\n      <td>0.007077</td>\n    </tr>\n    <tr>\n      <th>1070</th>\n      <td>2015-02-14 14:00:00</td>\n      <td>0.037168</td>\n      <td>0.007118</td>\n    </tr>\n    <tr>\n      <th>1071</th>\n      <td>2015-02-14 15:00:00</td>\n      <td>0.037253</td>\n      <td>0.006854</td>\n    </tr>\n    <tr>\n      <th>1072</th>\n      <td>2015-02-14 16:00:00</td>\n      <td>0.033356</td>\n      <td>0.007850</td>\n    </tr>\n    <tr>\n      <th>1073</th>\n      <td>2015-02-14 17:00:00</td>\n      <td>0.035141</td>\n      <td>0.007417</td>\n    </tr>\n    <tr>\n      <th>1074</th>\n      <td>2015-02-14 18:00:00</td>\n      <td>0.030345</td>\n      <td>0.014002</td>\n    </tr>\n    <tr>\n      <th>1075</th>\n      <td>2015-02-14 19:00:00</td>\n      <td>0.026765</td>\n      <td>0.010058</td>\n    </tr>\n    <tr>\n      <th>1076</th>\n      <td>2015-02-14 20:00:00</td>\n      <td>0.028170</td>\n      <td>0.004842</td>\n    </tr>\n    <tr>\n      <th>1077</th>\n      <td>2015-02-14 21:00:00</td>\n      <td>0.027285</td>\n      <td>0.005247</td>\n    </tr>\n    <tr>\n      <th>1078</th>\n      <td>2015-02-14 22:00:00</td>\n      <td>0.027663</td>\n      <td>0.004443</td>\n    </tr>\n    <tr>\n      <th>1079</th>\n      <td>2015-02-14 23:00:00</td>\n      <td>0.027491</td>\n      <td>0.003871</td>\n    </tr>\n  </tbody>\n</table>\n</div>"
     },
     "execution_count": 43,
     "metadata": {},
     "output_type": "execute_result"
    }
   ],
   "source": [
    "df_industry_winter"
   ],
   "metadata": {
    "collapsed": false,
    "ExecuteTime": {
     "end_time": "2024-04-05T17:41:12.302946800Z",
     "start_time": "2024-04-05T17:41:12.255846500Z"
    }
   },
   "id": "a3f2b9cdf04e304f"
  },
  {
   "cell_type": "code",
   "outputs": [],
   "source": [
    "with open(f\"./data/loadprofiles/winter/potentials.json\", \"w\") as f:\n",
    "    json.dump(winter, f)\n",
    "    \n",
    "with open(f\"./data/loadprofiles/summer/potentials.json\", \"w\") as f:\n",
    "    json.dump(summer, f)"
   ],
   "metadata": {
    "collapsed": false,
    "ExecuteTime": {
     "end_time": "2024-04-05T17:41:20.836268700Z",
     "start_time": "2024-04-05T17:41:20.807373500Z"
    }
   },
   "id": "2ddb51f408d38450",
   "execution_count": 44
  },
  {
   "cell_type": "code",
   "outputs": [
    {
     "ename": "ModuleNotFoundError",
     "evalue": "No module named 'matplotlib'",
     "output_type": "error",
     "traceback": [
      "\u001B[1;31m---------------------------------------------------------------------------\u001B[0m",
      "\u001B[1;31mModuleNotFoundError\u001B[0m                       Traceback (most recent call last)",
      "Cell \u001B[1;32mIn[36], line 1\u001B[0m\n\u001B[1;32m----> 1\u001B[0m \u001B[38;5;28;01mimport\u001B[39;00m \u001B[38;5;21;01mmatplotlib\u001B[39;00m\u001B[38;5;21;01m.\u001B[39;00m\u001B[38;5;21;01mpyplot\u001B[39;00m \u001B[38;5;28;01mas\u001B[39;00m \u001B[38;5;21;01mplt\u001B[39;00m\n\u001B[0;32m      3\u001B[0m plt\u001B[38;5;241m.\u001B[39mplot(df_winter[\u001B[38;5;124m\"\u001B[39m\u001B[38;5;124mpv_potential\u001B[39m\u001B[38;5;124m\"\u001B[39m]\u001B[38;5;241m.\u001B[39mto_list())\n\u001B[0;32m      4\u001B[0m plt\u001B[38;5;241m.\u001B[39mplot(df_summer[\u001B[38;5;124m\"\u001B[39m\u001B[38;5;124mpv_potential\u001B[39m\u001B[38;5;124m\"\u001B[39m]\u001B[38;5;241m.\u001B[39mto_list())\n",
      "\u001B[1;31mModuleNotFoundError\u001B[0m: No module named 'matplotlib'"
     ]
    }
   ],
   "source": [
    "import matplotlib.pyplot as plt\n",
    "\n",
    "plt.plot(df_winter[\"pv_potential\"].to_list())\n",
    "plt.plot(df_summer[\"pv_potential\"].to_list())\n",
    "plt.legend([\"Winter\", \"Summer\"])\n",
    "plt.show()"
   ],
   "metadata": {
    "collapsed": false,
    "ExecuteTime": {
     "end_time": "2024-04-05T08:04:14.174005800Z",
     "start_time": "2024-04-05T08:04:14.053523700Z"
    }
   },
   "id": "6a1fe6db9fbefb59",
   "execution_count": 36
  },
  {
   "cell_type": "code",
   "outputs": [],
   "source": [],
   "metadata": {
    "collapsed": false
   },
   "id": "21df8d276792b951"
  }
 ],
 "metadata": {
  "kernelspec": {
   "display_name": "Python 3",
   "language": "python",
   "name": "python3"
  },
  "language_info": {
   "codemirror_mode": {
    "name": "ipython",
    "version": 2
   },
   "file_extension": ".py",
   "mimetype": "text/x-python",
   "name": "python",
   "nbconvert_exporter": "python",
   "pygments_lexer": "ipython2",
   "version": "2.7.6"
  }
 },
 "nbformat": 4,
 "nbformat_minor": 5
}
